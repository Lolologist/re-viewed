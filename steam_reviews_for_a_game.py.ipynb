{
 "cells": [
  {
   "cell_type": "code",
   "execution_count": null,
   "metadata": {},
   "outputs": [],
   "source": [
    "import steam\n",
    "import json"
   ]
  },
  {
   "cell_type": "code",
   "execution_count": null,
   "metadata": {},
   "outputs": [],
   "source": [
    "import steam.webauth as wa\n",
    "username = input(\"username: \")\n",
    "password = input(\"password: \")\n",
    "user = wa.WebAuth(username, password)\n",
    "\n",
    "try:\n",
    "    user.login()\n",
    "except wa.CaptchaRequired:\n",
    "    print(user.captcha_url)\n",
    "    # ask a human to solve captcha\n",
    "    user.login(captcha=input(\"captcha: \"))\n",
    "except wa.EmailCodeRequired:\n",
    "    user.login(email_code=input(\"email code: \"))\n",
    "\n",
    "session = user.login()"
   ]
  },
  {
   "cell_type": "code",
   "execution_count": null,
   "metadata": {},
   "outputs": [],
   "source": [
    "#session.get('https://store.steampowered.com/app/264710/Subnautica/')\n",
    "#session.get('https://store.steampowered.com/app/738520/Breathedge/')"
   ]
  },
  {
   "cell_type": "code",
   "execution_count": null,
   "metadata": {},
   "outputs": [],
   "source": [
    "all_reviews = []\n",
    "offset = 0"
   ]
  },
  {
   "cell_type": "code",
   "execution_count": null,
   "metadata": {},
   "outputs": [],
   "source": [
    "last_response = []\n",
    "while True:\n",
    "    reviews = session.get('http://store.steampowered.com/appreviews/738520?json=1', params={'start_offset': str(offset),'filter':'recent','num_per_page':'100','language':'all'})\n",
    "    if reviews.json()['reviews'] != last_response:\n",
    "        for review in reviews.json()['reviews']:\n",
    "            all_reviews.append(review)\n",
    "        offset += 100\n",
    "        last_response = reviews.json()['reviews']\n",
    "    else:\n",
    "        break"
   ]
  },
  {
   "cell_type": "code",
   "execution_count": null,
   "metadata": {},
   "outputs": [],
   "source": []
  }
 ],
 "metadata": {
  "kernelspec": {
   "display_name": "Python 3",
   "language": "python",
   "name": "python3"
  },
  "language_info": {
   "codemirror_mode": {
    "name": "ipython",
    "version": 3
   },
   "file_extension": ".py",
   "mimetype": "text/x-python",
   "name": "python",
   "nbconvert_exporter": "python",
   "pygments_lexer": "ipython3",
   "version": "3.5.2"
  }
 },
 "nbformat": 4,
 "nbformat_minor": 2
}
